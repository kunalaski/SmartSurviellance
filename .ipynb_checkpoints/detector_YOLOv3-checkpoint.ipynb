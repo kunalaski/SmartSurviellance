{
 "cells": [
  {
   "cell_type": "markdown",
   "metadata": {},
   "source": [
    "## Object Detection - YOLOv3"
   ]
  },
  {
   "cell_type": "code",
   "execution_count": null,
   "metadata": {},
   "outputs": [],
   "source": [
    "pip install ipyfilechooser"
   ]
  },
  {
   "cell_type": "code",
   "execution_count": null,
   "metadata": {},
   "outputs": [],
   "source": [
    "import numpy as np\n",
    "import cv2 as cv\n",
    "from motrackers.detectors import YOLOv3\n",
    "from motrackers import CentroidTracker, CentroidKF_Tracker, SORT, IOUTracker\n",
    "#from motrackers.utils import draw_tracks\n",
    "import ipywidgets as widgets"
   ]
  },
  {
   "cell_type": "code",
   "execution_count": null,
   "metadata": {},
   "outputs": [],
   "source": [
    "VIDEO_FILE = \"test.mp4\"\n",
    "WEIGHTS_PATH = './examples/pretrained_models/yolo_weights/yolov4.weights'\n",
    "CONFIG_FILE_PATH = './examples/pretrained_models/yolo_weights/yolov4.cfg'\n",
    "LABELS_PATH = \"./examples/pretrained_models/yolo_weights/coco_names.json\"\n",
    "\n",
    "USE_GPU = True\n",
    "CONFIDENCE_THRESHOLD = 0.5\n",
    "NMS_THRESHOLD = 0.2\n",
    "DRAW_BOUNDING_BOXES = True"
   ]
  },
  {
   "cell_type": "code",
   "execution_count": null,
   "metadata": {},
   "outputs": [],
   "source": [
    "model = YOLOv3(\n",
    "    weights_path=WEIGHTS_PATH,\n",
    "    configfile_path=CONFIG_FILE_PATH,\n",
    "    labels_path=LABELS_PATH,\n",
    "    confidence_threshold=CONFIDENCE_THRESHOLD,\n",
    "    nms_threshold=NMS_THRESHOLD,\n",
    "    draw_bboxes=DRAW_BOUNDING_BOXES,\n",
    "    use_gpu=USE_GPU\n",
    ")"
   ]
  },
  {
   "cell_type": "code",
   "execution_count": null,
   "metadata": {},
   "outputs": [],
   "source": [
    "tracker = CentroidKF_Tracker(max_lost=0, tracker_output_format='mot_challenge')"
   ]
  },
  {
   "cell_type": "code",
   "execution_count": null,
   "metadata": {
    "scrolled": false
   },
   "outputs": [],
   "source": [
    "%matplotlib inline\n",
    "import matplotlib.pyplot as plt\n",
    "import matplotlib.image as mpimg\n",
    "image = cv.imread(\"street2.jpg\")\n",
    "#ok, image = cap.read()\n",
    "\n",
    "# if not ok:\n",
    "#     print(\"Cannot read the video feed.\")\n",
    "#     break\n",
    "image = cv.resize(image, (700, 500))\n",
    "booli, op = model.detect(image)\n",
    "bboxes, confidences, class_ids = op\n",
    "frame = model.draw_bboxes2(image.copy(), bboxes, confidences, class_ids)\n",
    "frame = cv.cvtColor(frame, cv.COLOR_RGB2BGR)\n",
    "fig = plt.figure(figsize=(12,7))\n",
    "plt.imshow(frame)\n"
   ]
  },
  {
   "cell_type": "code",
   "execution_count": null,
   "metadata": {},
   "outputs": [],
   "source": [
    "fig.savefig('obj.jpg', bbox_inches='tight', dpi=150)"
   ]
  },
  {
   "cell_type": "code",
   "execution_count": null,
   "metadata": {},
   "outputs": [],
   "source": []
  },
  {
   "cell_type": "code",
   "execution_count": null,
   "metadata": {},
   "outputs": [],
   "source": [
    "from warnings import filterwarnings\n",
    "filterwarnings('ignore')"
   ]
  },
  {
   "cell_type": "code",
   "execution_count": null,
   "metadata": {},
   "outputs": [],
   "source": [
    "from datetime import datetime, timedelta, timezone\n",
    "import urllib\n",
    "import m3u8\n",
    "import streamlink\n",
    "import cv2\n",
    "import time"
   ]
  },
  {
   "cell_type": "code",
   "execution_count": null,
   "metadata": {},
   "outputs": [],
   "source": [
    "def get_stream(url):\n",
    "\n",
    "    \"\"\"\n",
    "    Get upload chunk url\n",
    "    input: youtube URL\n",
    "    output: m3u8 object segment\n",
    "    \"\"\"\n",
    "    #Try this line tries number of times, if it doesn't work, \n",
    "    # then show the exception on the last attempt\n",
    "    # Credit, theherk, https://stackoverflow.com/questions/2083987/how-to-retry-after-exception\n",
    "    tries = 10\n",
    "    for i in range(tries):\n",
    "        try:\n",
    "            streams = streamlink.streams(url)\n",
    "        except:\n",
    "            if i < tries - 1: # i is zero indexed\n",
    "                print(f\"Attempt {i+1} of {tries}\")\n",
    "                time.sleep(0.1) #Wait half a second, avoid overload\n",
    "                continue\n",
    "            else:\n",
    "                raise\n",
    "        break\n",
    "\n",
    "    stream_url = streams[\"best\"] #Alternate, use '360p'\n",
    "\n",
    "    m3u8_obj = m3u8.load(stream_url.args['url'])\n",
    "    return m3u8_obj.segments[0] #Parsed stream\n"
   ]
  },
  {
   "cell_type": "code",
   "execution_count": null,
   "metadata": {},
   "outputs": [],
   "source": [
    "def dl_stream(url, filename, chunks):\n",
    "    \"\"\"\n",
    "    Download each chunk to file\n",
    "    input: url, filename, and number of chunks (int)\n",
    "    output: saves file at filename location\n",
    "    returns none.\n",
    "    \"\"\"\n",
    "    pre_time_stamp = datetime(1, 1, 1, 0, 0, tzinfo=timezone.utc)\n",
    "\n",
    "    \n",
    "    #Repeat for each chunk\n",
    "    #Needs to be in chunks because \n",
    "    #  1) it's live\n",
    "    #  2) it won't let you leave the stream open forever\n",
    "    i=1\n",
    "    while i <= chunks:\n",
    "       \n",
    "        #Open stream\n",
    "        stream_segment = get_stream(url)\n",
    "    \n",
    "        #Get current time on video\n",
    "        cur_time_stamp = stream_segment.program_date_time\n",
    "        #Only get next time step, wait if it's not new yet\n",
    "        if cur_time_stamp <= pre_time_stamp:\n",
    "            #Don't increment counter until we have a new chunk\n",
    "            print(\"NO   pre: \",pre_time_stamp, \"curr:\",cur_time_stamp)\n",
    "            time.sleep(0.5) #Wait half a sec\n",
    "            pass\n",
    "        else:\n",
    "            print(\"YES: pre: \",pre_time_stamp, \"curr:\",cur_time_stamp)\n",
    "            print(f'#{i} at time {cur_time_stamp}')\n",
    "            #Open file for writing stream\n",
    "            file = open(filename, 'ab+') #ab+ means keep adding to file\n",
    "            #Write stream to file\n",
    "            with urllib.request.urlopen(stream_segment.uri) as response:\n",
    "                html = response.read()\n",
    "                file.write(html)\n",
    "            \n",
    "            #Update time stamp\n",
    "            pre_time_stamp = cur_time_stamp\n",
    "            time.sleep(stream_segment.duration) #Wait duration time - 1\n",
    "\n",
    "            i += 1 #only increment if we got a new chunk\n",
    "\n",
    "    return None\n"
   ]
  },
  {
   "cell_type": "code",
   "execution_count": null,
   "metadata": {},
   "outputs": [],
   "source": [
    "def openCVProcessing(saved_video_file):\n",
    "    '''View saved video with openCV\n",
    "    Add your other steps here'''\n",
    "    capture = cv2.VideoCapture(saved_video_file)\n",
    "\n",
    "    while capture.isOpened():\n",
    "        grabbed, frame = capture.read()  #read in single frame\n",
    "        if grabbed == False:\n",
    "            break\n",
    "\n",
    "        #openCV processing goes here\n",
    "        #\n",
    "        \n",
    "        cv2.imshow('frame',frame)  #Show the frame\n",
    "        \n",
    "        #Shown in a new window, To exit, push q on the keyboard\n",
    "        if cv2.waitKey(20) & 0xFF == ord('q'):\n",
    "            break\n",
    "\n",
    "    capture.release()\n",
    "    cv2.destroyAllWindows() "
   ]
  },
  {
   "cell_type": "code",
   "execution_count": null,
   "metadata": {},
   "outputs": [],
   "source": [
    "tempFile = \"temp.ts\"  #files are format ts, open cv can view them\n",
    "videoURL = \"https://www.youtube.com/watch?v=5qap5aO4i9A&ab_channel=LofiGirl\""
   ]
  },
  {
   "cell_type": "code",
   "execution_count": null,
   "metadata": {},
   "outputs": [],
   "source": [
    "dl_stream(videoURL, tempFile, 3)"
   ]
  },
  {
   "cell_type": "code",
   "execution_count": null,
   "metadata": {},
   "outputs": [],
   "source": [
    "openCVProcessing(tempFile)"
   ]
  },
  {
   "cell_type": "code",
   "execution_count": null,
   "metadata": {},
   "outputs": [],
   "source": [
    "import cv2 as cv\n",
    "import time \n",
    "import datetime"
   ]
  },
  {
   "cell_type": "code",
   "execution_count": null,
   "metadata": {},
   "outputs": [],
   "source": [
    "def manDown(video_path, model, tracker):\n",
    "    frames = []\n",
    "    cap = cv.VideoCapture(video_path)\n",
    "    try:\n",
    "        while True:\n",
    "            ok, image = cap.read()\n",
    "\n",
    "            if not ok:\n",
    "                print(\"Cannot read the video feed.\")\n",
    "                break\n",
    "\n",
    "            image = cv.resize(image, (700, 500))\n",
    "            booli, output = model.detect(image)\n",
    "            if(booli == False):\n",
    "                cv.imshow(\"image\", image)\n",
    "                frames.append(image)\n",
    "            else:\n",
    "                centroid_dict = dict() \n",
    "                objectId = 0\n",
    "                bboxes, confidences, class_ids = output\n",
    "                tracks = tracker.update(bboxes, confidences, class_ids)\n",
    "                \n",
    "                for bb, conf, cid, trk in zip(bboxes, confidences, class_ids, tracks):\n",
    "                    if (model.checkPerson):\n",
    "                        xmin, ymin, xmax, ymax = model.convertBack(float(bb[0]), float(bb[1]), float(bb[2]), float(bb[3]))\n",
    "                        centroid_dict[objectId] = (int(bb[0]), int(bb[1]), xmin, ymin, xmax, ymax)\n",
    "                \n",
    "                    #print(tracks)\n",
    "                    objId = tracks[0]\n",
    "                    fall_alert_list = [] \n",
    "                    red_line_list = []\n",
    "                    for id,p in centroid_dict.items():\n",
    "                        dx, dy = p[4] - p[2], p[5] - p[3]  \n",
    "                        difference = dy-dx\n",
    "                        if difference < 0:\n",
    "                            fall_alert_list.append(id)      \n",
    "\n",
    "#                     for idx, box in centroid_dict.items():  # dict (1(key):red(value), 2 blue)  idx - key  box - value\n",
    "#                         if idx in fall_alert_list:   # if id is in red zone list\n",
    "#                             cv.rectangle(image, (box[2], box[3]), (box[4], box[5]), (255, 0, 0), 2) # Create Red bounding boxes  #starting point, ending point size of 2\n",
    "#                         else:\n",
    "#                             cv.rectangle(image, (box[2], box[3]), (box[4], box[5]), (0, 255, 0), 2) \n",
    "\n",
    "                    if len(fall_alert_list)!=0:\n",
    "                        text = \"Fall Detected\"\n",
    "\n",
    "\n",
    "\n",
    "                    else:\n",
    "                        text = \"Fall Not Detected\"\n",
    "                        alert_var = 0           # makes sure that alert is generated when there are 20 simultaeous frames of fall detection\n",
    "\n",
    "                    location = (10,25)\n",
    "                    if len(fall_alert_list)!=0:\n",
    "                        cv.putText(image, text, location, cv.FONT_HERSHEY_SIMPLEX, 1, (255,0,0), 2, cv.LINE_AA)  # Display Text\n",
    "                    else:\n",
    "                        cv.putText(image, text, location, cv.FONT_HERSHEY_SIMPLEX, 1, (0,255,0), 2, cv.LINE_AA)  # Display Text\n",
    "\n",
    "                    cv.imshow(\"image\", image)\n",
    "            if cv.waitKey(1) & 0xFF == ord('q'):\n",
    "                break\n",
    "    finally:\n",
    "        cap.release()\n",
    "        cv.destroyAllWindows()"
   ]
  },
  {
   "cell_type": "code",
   "execution_count": null,
   "metadata": {},
   "outputs": [],
   "source": [
    "manDown('fall.mp4', model, tracker)"
   ]
  },
  {
   "cell_type": "code",
   "execution_count": null,
   "metadata": {},
   "outputs": [],
   "source": []
  },
  {
   "cell_type": "code",
   "execution_count": null,
   "metadata": {},
   "outputs": [],
   "source": [
    "cap = cv.VideoCapture(0)\n",
    "frame_size = (int(cap.get(3)), int(cap.get(4)))\n",
    "fourcc = cv.VideoWriter_fourcc(*'mp4v')\n",
    "timer_started = True\n",
    "size_of_chunked_video = 60\n",
    "stop_time = None\n",
    "while True:\n",
    "    _, frame = cap.read()\n",
    "    if timer_started:\n",
    "        detection = True\n",
    "        current_time = datetime.datetime.now().strftime(\"%d-%m-%Y-%H-%M-%S\")\n",
    "        out = cv.VideoWriter(f\"test/{current_time}.mp4\", fourcc, 20, frame_size)\n",
    "        print(\"Started Recording!\")\n",
    "        timer_started = False\n",
    "        stop_time = time.time()\n",
    "    \n",
    "    if time.time() - stop_time >= size_of_chunked_video:\n",
    "        detection = False\n",
    "        timer_started = True\n",
    "        out.release()\n",
    "        print('Stop Recording!')\n",
    "    out.write(frame)\n",
    "    cv.imshow('Camera', frame)\n",
    "\n",
    "    if cv.waitKey(1) == ord('q'):\n",
    "        break\n",
    "        \n",
    "cap.release()\n",
    "cv.destroyAllWindows()"
   ]
  },
  {
   "cell_type": "code",
   "execution_count": null,
   "metadata": {
    "scrolled": true
   },
   "outputs": [],
   "source": [
    "timer_started=True\n",
    "stop_time=None\n",
    "size_of_chunked_video = 120\n",
    "\n",
    "while True:\n",
    "    if timer_started:\n",
    "        current_time = datetime.datetime.now().strftime(\"%d-%m-%Y-%H-%M-%S\")\n",
    "        timer_started = False\n",
    "        stop_time = time.time()\n",
    "    else:\n",
    "        print(round(time.time()-stop_time))\n",
    "    \n",
    "    if (time.time()-stop_time) >= size_of_chunked_video:\n",
    "        detection = False\n",
    "        timer_started = True\n",
    "        print('Stop Recording!')"
   ]
  },
  {
   "cell_type": "code",
   "execution_count": null,
   "metadata": {},
   "outputs": [],
   "source": [
    "round(time.time()-stop_time)"
   ]
  },
  {
   "cell_type": "code",
   "execution_count": null,
   "metadata": {},
   "outputs": [],
   "source": [
    "import os"
   ]
  },
  {
   "cell_type": "code",
   "execution_count": null,
   "metadata": {},
   "outputs": [],
   "source": [
    "S3_ACCESS_KEY = os.environ.get('s3_access_key')\n",
    "S3_SECRET_KEY = os.environ.get('s3_secret_key')\n",
    "S3_BUCKET = 'samrtsus'\n",
    "AWS_S3_FILE_OVERWRITE = False\n",
    "AWS_DEFAULT_ACL = None\n",
    "DEFAULT_FILE_STORAGE = \"storages.backends.s3boto3.S3Boto3Storage\""
   ]
  },
  {
   "cell_type": "code",
   "execution_count": null,
   "metadata": {},
   "outputs": [],
   "source": [
    "S3_ACCESS_KEY"
   ]
  },
  {
   "cell_type": "code",
   "execution_count": null,
   "metadata": {},
   "outputs": [],
   "source": [
    "import boto3 "
   ]
  },
  {
   "cell_type": "code",
   "execution_count": null,
   "metadata": {},
   "outputs": [],
   "source": [
    "import os\n",
    "import cv2\n",
    "import threading\n",
    "from datetime import datetime\n",
    "\n",
    "class camThread(threading.Thread):\n",
    "    def __init__(self, previewName, webcamNumber):\n",
    "        threading.Thread.__init__(self)\n",
    "        self.previewName = previewName\n",
    "        self.webcamNumber = webcamNumber\n",
    "    def run(self):\n",
    "        capture(self.previewName, self.webcamNumber)\n",
    "\n",
    "def capture(previewName, webcamNumber):\n",
    "    while True:\n",
    "        cv2.namedWindow(previewName)\n",
    "        cam = cv2.VideoCapture(webcamNumber)\n",
    "        if cam.isOpened():\n",
    "            rval, frame = cam.read()\n",
    "        else:\n",
    "            rval = False\n",
    "        path = \"img/\"+str(datetime.now())+str(webcamNumber)+\".jpg\"\n",
    "        cv2.imwrite(filename=path, img=frame)\n",
    "        cv2.imshow('image', frame)\n",
    "        if cv2.waitKey(1) & 0xFF == ord('q'):\n",
    "            break\n",
    "    cam.release()\n",
    "    cv2.destroyAllWindows()\n",
    "    print(previewName+\" Image saved!\")\n",
    "\n",
    "# Create threads \n",
    "thread1 = camThread(\"Webcam 1\", 0)\n",
    "thread2 = camThread(\"Webcam 2\", 'http://192.168.0.101:4747/video')\n",
    "\n",
    "path =\"./img\"\n",
    "\n",
    "# Check whether the specified path exists or not\n",
    "isExist = os.path.exists(path)\n",
    "if not isExist:\n",
    "  # Create a new directory because it does not exist \n",
    "  os.makedirs(path)\n",
    "\n",
    "thread1.start()\n",
    "thread2.start()\n"
   ]
  },
  {
   "cell_type": "code",
   "execution_count": null,
   "metadata": {},
   "outputs": [],
   "source": [
    "import cv2\n",
    "import threading\n",
    "\n",
    "class camThread(threading.Thread):\n",
    "    def __init__(self, previewName, camID):\n",
    "        threading.Thread.__init__(self)\n",
    "        self.previewName = previewName\n",
    "        self.camID = camID\n",
    "    def run(self):\n",
    "        print(\"Starting \" + self.previewName)\n",
    "        camPreview(self.previewName, self.camID)\n",
    "\n",
    "def camPreview(previewName, camID):\n",
    "    cv2.namedWindow(previewName)\n",
    "    cam = cv2.VideoCapture(camID)\n",
    "    if cam.isOpened():  # try to get the first frame\n",
    "        rval, frame = cam.read()\n",
    "    else:\n",
    "        rval = False\n",
    "\n",
    "    while rval:\n",
    "        cv2.imshow(previewName, frame)\n",
    "        rval, frame = cam.read()\n",
    "        key = cv2.waitKey(20)\n",
    "        if key == 27:  # exit on ESC\n",
    "            break\n",
    "    cv2.destroyWindow(previewName)\n",
    "\n",
    "# Create two threads as follows\n",
    "thread1 = camThread(\"Camera 1\", 0)\n",
    "thread2 = camThread(\"Camera 2\", 'http://192.168.0.101:4747/video')\n",
    "thread1.start()\n",
    "thread2.start()"
   ]
  },
  {
   "cell_type": "code",
   "execution_count": null,
   "metadata": {},
   "outputs": [],
   "source": [
    "def camPreview(previewName, camID):\n",
    "    cv2.namedWindow(previewName)\n",
    "    cam = cv2.VideoCapture(camID)\n",
    "    if cam.isOpened():  # try to get the first frame\n",
    "        rval, frame = cam.read()\n",
    "    else:\n",
    "        rval = False\n",
    "\n",
    "    while rval:\n",
    "        cv2.imshow(previewName, frame)\n",
    "        rval, frame = cam.read()\n",
    "        key = cv2.waitKey(20)\n",
    "        if key == 27:  # exit on ESC\n",
    "            break\n",
    "    cv2.destroyWindow(previewName)"
   ]
  },
  {
   "cell_type": "code",
   "execution_count": null,
   "metadata": {},
   "outputs": [],
   "source": [
    "commands={'1':0, '2':'http://192.168.0.101:4747/video'}\n",
    "threads = []\n",
    "for i in commands.keys():    \n",
    "    t = threading.Thread(target=camPreview, args=(i, commands[i]))\n",
    "    t.start()\n",
    "    threads.append(t)"
   ]
  },
  {
   "cell_type": "code",
   "execution_count": null,
   "metadata": {},
   "outputs": [
    {
     "name": "stderr",
     "output_type": "stream",
     "text": [
      "C:\\Users\\admin\\.conda\\envs\\sussy\\lib\\site-packages\\numpy\\_distributor_init.py:30: UserWarning: loaded more than 1 DLL from .libs:\n",
      "C:\\Users\\admin\\.conda\\envs\\sussy\\lib\\site-packages\\numpy\\.libs\\libopenblas.PYQHXLVVQ7VESDPUVUADXEVJOBGHJPAY.gfortran-win_amd64.dll\n",
      "C:\\Users\\admin\\.conda\\envs\\sussy\\lib\\site-packages\\numpy\\.libs\\libopenblas.XWYDX2IKJW2NMTWSFYNGFUWKQU3LYTCZ.gfortran-win_amd64.dll\n",
      "  warnings.warn(\"loaded more than 1 DLL from .libs:\"\n"
     ]
    }
   ],
   "source": [
    "from tqdm import tqdm\n",
    "import os\n",
    "import cv2\n",
    "bad_list=[]\n",
    "dir=r'E:\\Dataset'\n",
    "subdir_list=os.listdir(dir) # create a list of the sub directories in the directory ie train or test\n",
    "for d in subdir_list:  # iterate through the sub directories train and test\n",
    "    dpath=os.path.join (dir, d) # create path to sub directory\n",
    "    if d in ['Train', 'Test']:\n",
    "        class_list=os.listdir(dpath) # list of classes ie dog or cat\n",
    "        #print (class_list)\n",
    "        for klass in class_list: # iterate through the two classes\n",
    "            class_path=os.path.join(dpath, klass) # path to class directory\n",
    "            #print(class_path)\n",
    "            file_list=os.listdir(class_path) # create list of files in class directory\n",
    "            for f in tqdm(file_list): # iterate through the files\n",
    "                fpath=os.path.join (class_path,f)\n",
    "                index=f.rfind('.') # find index of period infilename\n",
    "                ext=f[index+1:] # get the files extension\n",
    "                if ext  not in ['jpg', 'png', 'bmp', 'gif']:\n",
    "#                     print(f'file {fpath}  has an invalid extension {ext}')\n",
    "                    bad_list.append(fpath)                    \n",
    "                else:\n",
    "                    try:\n",
    "                        img=cv2.imread(fpath)\n",
    "                        size=img.shape\n",
    "                        print(fpath)\n",
    "                    except:\n",
    "#                         print(f'file {fpath} is not a valid image file ')\n",
    "                       \n",
    "                        bad_list.append(fpath)\n",
    "# print (bad_list)"
   ]
  },
  {
   "cell_type": "code",
   "execution_count": 2,
   "metadata": {},
   "outputs": [],
   "source": [
    "import os\n",
    "AWS_ACCESS_KEY_ID  = os.environ.get('s3_access_key')\n",
    "AWS_SECRET_ACCESS_KEY  = os.environ.get('s3_secret_key')\n",
    "AWS_STORAGE_BUCKET_NAME  = 'smartsus'"
   ]
  },
  {
   "cell_type": "code",
   "execution_count": 3,
   "metadata": {},
   "outputs": [],
   "source": [
    "conn = \"http://192.168.0.103:4747/video\""
   ]
  },
  {
   "cell_type": "code",
   "execution_count": 6,
   "metadata": {},
   "outputs": [],
   "source": [
    "import cv2\n",
    "cam = cv2.VideoCapture(conn)\n",
    "if cam.isOpened():  # try to get the first frame\n",
    "    rval, frame = cam.read()\n",
    "else:\n",
    "    rval = False\n",
    "\n",
    "while rval:\n",
    "    cv2.imshow('previewName', frame)\n",
    "    rval, frame = cam.read()\n",
    "    key = cv2.waitKey(20)\n",
    "    if key == 27:  # exit on ESC\n",
    "        break\n",
    "cv2.destroyAllWindows()\n"
   ]
  },
  {
   "cell_type": "code",
   "execution_count": null,
   "metadata": {},
   "outputs": [],
   "source": []
  }
 ],
 "metadata": {
  "kernelspec": {
   "display_name": "Python 3 (ipykernel)",
   "language": "python",
   "name": "python3"
  },
  "language_info": {
   "codemirror_mode": {
    "name": "ipython",
    "version": 3
   },
   "file_extension": ".py",
   "mimetype": "text/x-python",
   "name": "python",
   "nbconvert_exporter": "python",
   "pygments_lexer": "ipython3",
   "version": "3.8.8"
  }
 },
 "nbformat": 4,
 "nbformat_minor": 4
}
